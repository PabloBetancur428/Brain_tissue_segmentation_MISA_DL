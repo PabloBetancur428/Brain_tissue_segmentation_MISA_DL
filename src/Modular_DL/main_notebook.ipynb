{
 "cells": [
  {
   "cell_type": "code",
   "execution_count": 1,
   "metadata": {},
   "outputs": [],
   "source": [
    "import sys\n",
    "import os\n",
    "sys.path.append(os.path.abspath(\"../\")) #Add parent directory"
   ]
  },
  {
   "cell_type": "code",
   "execution_count": 2,
   "metadata": {},
   "outputs": [],
   "source": [
    "# import torch\n",
    "# import nibabel as nib\n",
    "# import os\n",
    "# import numpy as np"
   ]
  },
  {
   "cell_type": "markdown",
   "metadata": {},
   "source": [
    "## Load data"
   ]
  },
  {
   "cell_type": "code",
   "execution_count": 4,
   "metadata": {},
   "outputs": [],
   "source": [
    "from Modular_DL.data_loading import load_nifti, resample_image\n",
    "from Modular_DL.data_normalization import z_score_normalize\n",
    "import numpy as np\n",
    "import SimpleITK as sitk"
   ]
  },
  {
   "cell_type": "code",
   "execution_count": null,
   "metadata": {},
   "outputs": [
    {
     "ename": "KeyboardInterrupt",
     "evalue": "",
     "output_type": "error",
     "traceback": [
      "\u001b[1;31m---------------------------------------------------------------------------\u001b[0m",
      "\u001b[1;31mKeyboardInterrupt\u001b[0m                         Traceback (most recent call last)",
      "\u001b[1;32m~\\AppData\\Local\\Temp\\ipykernel_9292\\2646559189.py\u001b[0m in \u001b[0;36m?\u001b[1;34m()\u001b[0m\n\u001b[0;32m     27\u001b[0m \u001b[1;33m\u001b[0m\u001b[0m\n\u001b[0;32m     28\u001b[0m                 \u001b[0mdata\u001b[0m \u001b[1;33m=\u001b[0m \u001b[0mz_score_normalize\u001b[0m\u001b[1;33m(\u001b[0m\u001b[0mdata\u001b[0m\u001b[1;33m)\u001b[0m\u001b[1;33m\u001b[0m\u001b[1;33m\u001b[0m\u001b[0m\n\u001b[0;32m     29\u001b[0m                 \u001b[1;31m#Resampling data\u001b[0m\u001b[1;33m\u001b[0m\u001b[1;33m\u001b[0m\u001b[0m\n\u001b[0;32m     30\u001b[0m                 \u001b[0mimage_sitk\u001b[0m \u001b[1;33m=\u001b[0m \u001b[0msitk\u001b[0m\u001b[1;33m.\u001b[0m\u001b[0mGetImageFromArray\u001b[0m\u001b[1;33m(\u001b[0m\u001b[0mdata\u001b[0m\u001b[1;33m)\u001b[0m\u001b[1;33m\u001b[0m\u001b[1;33m\u001b[0m\u001b[0m\n\u001b[1;32m---> 31\u001b[1;33m                 \u001b[0mimage_sitk\u001b[0m\u001b[1;33m.\u001b[0m\u001b[0mSetSpacing\u001b[0m\u001b[1;33m(\u001b[0m\u001b[0mvoxel_spacing\u001b[0m\u001b[1;33m)\u001b[0m\u001b[1;33m\u001b[0m\u001b[1;33m\u001b[0m\u001b[0m\n\u001b[0m\u001b[0;32m     32\u001b[0m                 \u001b[0mresampled_image\u001b[0m \u001b[1;33m=\u001b[0m \u001b[0mresample_image\u001b[0m\u001b[1;33m(\u001b[0m\u001b[0mimage_sitk\u001b[0m\u001b[1;33m,\u001b[0m \u001b[0mtarget_spacing\u001b[0m\u001b[1;33m,\u001b[0m \u001b[0mis_label\u001b[0m\u001b[1;33m=\u001b[0m\u001b[1;32mFalse\u001b[0m\u001b[1;33m)\u001b[0m\u001b[1;33m\u001b[0m\u001b[1;33m\u001b[0m\u001b[0m\n\u001b[0;32m     33\u001b[0m                 \u001b[0mresampled_image_np\u001b[0m \u001b[1;33m=\u001b[0m \u001b[0msitk\u001b[0m\u001b[1;33m.\u001b[0m\u001b[0mGetArrayFromImage\u001b[0m\u001b[1;33m(\u001b[0m\u001b[0mresampled_image\u001b[0m\u001b[1;33m)\u001b[0m\u001b[1;33m\u001b[0m\u001b[1;33m\u001b[0m\u001b[0m\n\u001b[0;32m     34\u001b[0m                 \u001b[0mresampled_data\u001b[0m \u001b[1;33m=\u001b[0m \u001b[0mresampled_image_np\u001b[0m\u001b[1;33m\u001b[0m\u001b[1;33m\u001b[0m\u001b[0m\n",
      "\u001b[1;32mc:\\Users\\User\\Desktop\\UDG_old_pc\\UDG\\Subjects\\MISSSSSA\\Final_project\\New_code\\venv\\Lib\\site-packages\\SimpleITK\\SimpleITK.py\u001b[0m in \u001b[0;36m?\u001b[1;34m(self, spacing)\u001b[0m\n\u001b[1;32m-> 3263\u001b[1;33m     \u001b[1;32mdef\u001b[0m \u001b[0mSetSpacing\u001b[0m\u001b[1;33m(\u001b[0m\u001b[0mself\u001b[0m\u001b[1;33m,\u001b[0m \u001b[0mspacing\u001b[0m\u001b[1;33m)\u001b[0m\u001b[1;33m:\u001b[0m\u001b[1;33m\u001b[0m\u001b[1;33m\u001b[0m\u001b[0m\n\u001b[0m\u001b[0;32m   3264\u001b[0m         \u001b[1;34mr\"\"\"SetSpacing(Image self, VectorDouble spacing)\"\"\"\u001b[0m\u001b[1;33m\u001b[0m\u001b[1;33m\u001b[0m\u001b[0m\n\u001b[0;32m   3265\u001b[0m         \u001b[1;32mreturn\u001b[0m \u001b[0m_SimpleITK\u001b[0m\u001b[1;33m.\u001b[0m\u001b[0mImage_SetSpacing\u001b[0m\u001b[1;33m(\u001b[0m\u001b[0mself\u001b[0m\u001b[1;33m,\u001b[0m \u001b[0mspacing\u001b[0m\u001b[1;33m)\u001b[0m\u001b[1;33m\u001b[0m\u001b[1;33m\u001b[0m\u001b[0m\n",
      "\u001b[1;31mKeyboardInterrupt\u001b[0m: "
     ]
    }
   ],
   "source": [
    "folder_path = r\"C:\\Users\\User\\Desktop\\UDG_old_pc\\UDG\\Subjects\\MISSSSSA\\Final_project\\TrainingValidationTestSets\\Training_Set\".replace(\"\\\\\", \"/\")\n",
    "\n",
    "\n",
    "output_folder = r\"C:\\Users\\User\\Desktop\\UDG_old_pc\\UDG\\Subjects\\MISSSSSA\\Final_project\\TrainingValidationTestSets\\Training_resampled\".replace(\"\\\\\", \"/\")\n",
    "os.makedirs(output_folder, exist_ok= True)\n",
    "#target spacing for now: 1,1,1\n",
    "target_spacing = (1.0, 1.0, 1.0)\n",
    "reference_shape = None\n",
    "reference_affine = None\n",
    "consistent = True\n",
    "\n",
    "for root, _, files in os.walk(folder_path):\n",
    "    for file in files:\n",
    "        #print(file)\n",
    "        if file.endswith(\".nii\") or file.endswith(\".nii.gz\"):\n",
    "            file_path = os.path.join(root, file).replace(\"\\\\\", \"/\")\n",
    "            \n",
    "            if 'seg' in file_path:\n",
    "                label_data, _, _ = load_nifti(file_path)\n",
    "                \n",
    "                label_sitk = sitk.GetImageFromArray(label_data)\n",
    "                label_sitk.SetSpacing(voxel_spacing)\n",
    "                label_resample = resample_image(label_sitk, target_spacing, is_label= True)\n",
    "                label_resample_np = sitk.GetArrayFromImage(label_resample)\n",
    "                resampled_data = label_resample_np\n",
    "\n",
    "                #Save resampled label\n",
    "                output_file_path = os.path.join(output_folder, f\"resampled_{file}\")\n",
    "                sitk.WriteImage(label_resample, output_file_path)\n",
    "\n",
    "                \n",
    "            else:\n",
    "                data, affine, voxel_spacing = load_nifti(file_path)\n",
    "\n",
    "                data = z_score_normalize(data)\n",
    "                #Resampling data\n",
    "                image_sitk = sitk.GetImageFromArray(data)\n",
    "                image_sitk.SetSpacing(voxel_spacing)\n",
    "                resampled_image = resample_image(image_sitk, target_spacing, is_label=False)\n",
    "                resampled_image_np = sitk.GetArrayFromImage(resampled_image)\n",
    "                resampled_data = resampled_image_np\n",
    "\n",
    "                #Save image\n",
    "                output_file_path = os.path.join(output_folder, f\"resampled_{file}\")\n",
    "                sitk.WriteImage(resample_image, output_file_path)\n",
    "\n",
    "\n",
    "\n",
    "            if reference_shape is None:\n",
    "                reference_shape =  resampled_data.shape\n",
    "                reference_affine = affine\n",
    "            \n",
    "            else:\n",
    "\n",
    "                if resampled_data.shape != reference_shape:\n",
    "                    print(f\"Shape mismatch for file: {file}. Expected {reference_shape}, got {resampled_data.shape}\")\n",
    "                    consistent = False\n",
    "\n",
    "                if not np.allclose(affine, reference_affine, atol=1e-5):\n",
    "                    print(f\"Affine mismatch for file: {file}\")\n",
    "                    consistent = False\n",
    "            print(\"Resampled\", resampled_data.shape)\n",
    "\n",
    "\n",
    "            # print(f\"------------------Start {file}--------------------\")\n",
    "            # print(f\"File: {file} - Voxel Spacing: {voxel_spacing}\")\n",
    "            # print(\"\\n\")\n",
    "            # print(f\"File: {file} - Affine matrix: \\n{affine}\")\n",
    "        \n",
    "            # print(f\"------------------End {file}--------------------\")\n",
    "            # print(\"\\n\")\n",
    "            \n"
   ]
  },
  {
   "cell_type": "code",
   "execution_count": 7,
   "metadata": {},
   "outputs": [
    {
     "data": {
      "text/plain": [
       "(214, 192, 214)"
      ]
     },
     "execution_count": 7,
     "metadata": {},
     "output_type": "execute_result"
    }
   ],
   "source": [
    "resampled_data.shape"
   ]
  }
 ],
 "metadata": {
  "kernelspec": {
   "display_name": "venv",
   "language": "python",
   "name": "python3"
  },
  "language_info": {
   "codemirror_mode": {
    "name": "ipython",
    "version": 3
   },
   "file_extension": ".py",
   "mimetype": "text/x-python",
   "name": "python",
   "nbconvert_exporter": "python",
   "pygments_lexer": "ipython3",
   "version": "3.11.9"
  }
 },
 "nbformat": 4,
 "nbformat_minor": 2
}
