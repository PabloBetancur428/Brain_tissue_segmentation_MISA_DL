{
 "cells": [
  {
   "cell_type": "code",
   "execution_count": 1,
   "metadata": {},
   "outputs": [],
   "source": [
    "import sys\n",
    "import os\n",
    "sys.path.append(os.path.abspath(\"../\")) #Add parent directory"
   ]
  },
  {
   "cell_type": "code",
   "execution_count": 2,
   "metadata": {},
   "outputs": [],
   "source": [
    "# import torch\n",
    "# import nibabel as nib\n",
    "# import os\n",
    "# import numpy as np"
   ]
  },
  {
   "cell_type": "markdown",
   "metadata": {},
   "source": [
    "## Load data"
   ]
  },
  {
   "cell_type": "code",
   "execution_count": null,
   "metadata": {},
   "outputs": [],
   "source": [
    "from Modular_DL.data_loading import load_nifti, resample_image, convert_to_ras\n",
    "from Modular_DL.data_normalization import z_score_normalize\n",
    "import numpy as np\n",
    "import SimpleITK as sitk"
   ]
  },
  {
   "cell_type": "code",
   "execution_count": null,
   "metadata": {},
   "outputs": [
    {
     "name": "stdout",
     "output_type": "stream",
     "text": [
      "Resampled (240, 192, 240)\n",
      "Resampled (240, 192, 240)\n",
      "Resampled (240, 192, 240)\n",
      "Resampled (240, 192, 240)\n",
      "Resampled (240, 192, 240)\n",
      "Resampled (240, 192, 240)\n",
      "Resampled (240, 192, 240)\n",
      "Resampled (240, 192, 240)\n",
      "Resampled (240, 192, 240)\n",
      "Resampled (240, 192, 240)\n",
      "Shape mismatch for file: IBSR_07.nii.gz. Expected (240, 192, 240), got (256, 192, 256)\n",
      "Affine mismatch for file: IBSR_07.nii.gz\n",
      "Resampled (256, 192, 256)\n",
      "Shape mismatch for file: IBSR_07_seg.nii.gz. Expected (240, 192, 240), got (256, 192, 256)\n",
      "Affine mismatch for file: IBSR_07_seg.nii.gz\n",
      "Resampled (256, 192, 256)\n",
      "Shape mismatch for file: IBSR_08.nii.gz. Expected (240, 192, 240), got (256, 192, 256)\n",
      "Affine mismatch for file: IBSR_08.nii.gz\n",
      "Resampled (256, 192, 256)\n",
      "Shape mismatch for file: IBSR_08_seg.nii.gz. Expected (240, 192, 240), got (256, 192, 256)\n",
      "Affine mismatch for file: IBSR_08_seg.nii.gz\n",
      "Resampled (256, 192, 256)\n",
      "Shape mismatch for file: IBSR_09.nii.gz. Expected (240, 192, 240), got (256, 192, 256)\n",
      "Affine mismatch for file: IBSR_09.nii.gz\n",
      "Resampled (256, 192, 256)\n",
      "Shape mismatch for file: IBSR_09_seg.nii.gz. Expected (240, 192, 240), got (256, 192, 256)\n",
      "Affine mismatch for file: IBSR_09_seg.nii.gz\n",
      "Resampled (256, 192, 256)\n",
      "Shape mismatch for file: IBSR_16.nii.gz. Expected (240, 192, 240), got (214, 192, 214)\n",
      "Affine mismatch for file: IBSR_16.nii.gz\n",
      "Resampled (214, 192, 214)\n",
      "Shape mismatch for file: IBSR_16_seg.nii.gz. Expected (240, 192, 240), got (214, 192, 214)\n",
      "Affine mismatch for file: IBSR_16_seg.nii.gz\n",
      "Resampled (214, 192, 214)\n",
      "Shape mismatch for file: IBSR_18.nii.gz. Expected (240, 192, 240), got (214, 192, 214)\n",
      "Affine mismatch for file: IBSR_18.nii.gz\n",
      "Resampled (214, 192, 214)\n",
      "Shape mismatch for file: IBSR_18_seg.nii.gz. Expected (240, 192, 240), got (214, 192, 214)\n",
      "Affine mismatch for file: IBSR_18_seg.nii.gz\n",
      "Resampled (214, 192, 214)\n"
     ]
    }
   ],
   "source": [
    "folder_path = r\"C:\\Users\\User\\Desktop\\UDG_old_pc\\UDG\\Subjects\\MISSSSSA\\Final_project\\TrainingValidationTestSets\\Training_Set\".replace(\"\\\\\", \"/\")\n",
    "\n",
    "\n",
    "output_folder = r\"C:\\Users\\User\\Desktop\\UDG_old_pc\\UDG\\Subjects\\MISSSSSA\\Final_project\\TrainingValidationTestSets\\Training_resampled\".replace(\"\\\\\", \"/\")\n",
    "os.makedirs(output_folder, exist_ok= True)\n",
    "#target spacing for now: 1,1,1\n",
    "target_spacing = (1.0, 1.0, 1.0)\n",
    "reference_shape = None\n",
    "reference_affine = None\n",
    "consistent = True\n",
    "\n",
    "for root, _, files in os.walk(folder_path):\n",
    "    for file in files:\n",
    "        if file.endswith(\".nii\") or file.endswith(\".nii.gz\"):\n",
    "            file_path = os.path.join(root, file).replace(\"\\\\\", \"/\")\n",
    "\n",
    "            # Load original image\n",
    "            data, original_image, voxel_spacing = load_nifti(file_path)\n",
    "\n",
    "            # Create a SimpleITK image\n",
    "            image_sitk = sitk.GetImageFromArray(data)\n",
    "            image_sitk.SetSpacing(voxel_spacing)  # Set the original spacing\n",
    "            image_sitk.SetDirection(original_image.GetDirection())  # Copy original direction\n",
    "            image_sitk.SetOrigin(original_image.GetOrigin())  # Copy original origin\n",
    "\n",
    "            # Resample the image\n",
    "            is_label = 'seg' in file.lower()  # Determine if the file is a label (segmentation)\n",
    "            resampled_image = resample_image(image_sitk, target_spacing, is_label=is_label)\n",
    "\n",
    "            # Convert to RAS orientation\n",
    "            resampled_image = convert_to_ras(resampled_image)\n",
    "\n",
    "            # Save the resampled image\n",
    "            output_file_path = os.path.join(output_folder, f\"resampled_{file}\")\n",
    "            sitk.WriteImage(resampled_image, output_file_path)\n",
    "\n",
    "            print(f\"Processed and saved: {output_file_path}\")\n",
    "\n",
    "\n",
    "            # if reference_shape is None:\n",
    "            #     reference_shape =  resampled_data.shape\n",
    "            #     reference_affine = affine\n",
    "            \n",
    "            # else:\n",
    "\n",
    "            #     if resampled_data.shape != reference_shape:\n",
    "            #         print(f\"Shape mismatch for file: {file}. Expected {reference_shape}, got {resampled_data.shape}\")\n",
    "            #         consistent = False\n",
    "\n",
    "            #     if not np.allclose(affine, reference_affine, atol=1e-5):\n",
    "            #         print(f\"Affine mismatch for file: {file}\")\n",
    "            #         consistent = False\n",
    "            # print(\"Resampled\", resampled_data.shape)\n",
    "\n",
    "\n",
    "            # print(f\"------------------Start {file}--------------------\")\n",
    "            # print(f\"File: {file} - Voxel Spacing: {voxel_spacing}\")\n",
    "            # print(\"\\n\")\n",
    "            # print(f\"File: {file} - Affine matrix: \\n{affine}\")\n",
    "        \n",
    "            # print(f\"------------------End {file}--------------------\")\n",
    "            # print(\"\\n\")\n",
    "            \n"
   ]
  },
  {
   "cell_type": "code",
   "execution_count": 7,
   "metadata": {},
   "outputs": [
    {
     "data": {
      "text/plain": [
       "(214, 192, 214)"
      ]
     },
     "execution_count": 7,
     "metadata": {},
     "output_type": "execute_result"
    }
   ],
   "source": [
    "resampled_data.shape"
   ]
  }
 ],
 "metadata": {
  "kernelspec": {
   "display_name": "venv",
   "language": "python",
   "name": "python3"
  },
  "language_info": {
   "codemirror_mode": {
    "name": "ipython",
    "version": 3
   },
   "file_extension": ".py",
   "mimetype": "text/x-python",
   "name": "python",
   "nbconvert_exporter": "python",
   "pygments_lexer": "ipython3",
   "version": "3.11.9"
  }
 },
 "nbformat": 4,
 "nbformat_minor": 2
}
